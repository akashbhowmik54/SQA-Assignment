{
 "cells": [
  {
   "cell_type": "code",
   "execution_count": 1,
   "id": "91bb41e1",
   "metadata": {},
   "outputs": [],
   "source": [
    "import pandas as pd\n",
    "from bs4 import BeautifulSoup\n",
    "import requests\n",
    "import datetime"
   ]
  },
  {
   "cell_type": "code",
   "execution_count": 2,
   "id": "01f44900",
   "metadata": {},
   "outputs": [],
   "source": [
    "excel_file = 'Excel.xlsx'\n",
    "df_dict = pd.read_excel(excel_file, sheet_name=None)"
   ]
  },
  {
   "cell_type": "code",
   "execution_count": 3,
   "id": "b6d4aee3",
   "metadata": {},
   "outputs": [
    {
     "name": "stdout",
     "output_type": "stream",
     "text": [
      "6\n",
      "Friday\n"
     ]
    }
   ],
   "source": [
    "current_day = datetime.datetime.today().weekday()\n",
    "print (current_day)\n",
    "days_of_week = ['Saturday','Sunday','Monday', 'Tuesday', 'Wednesday', 'Thursday', 'Friday']\n",
    "current_day_name = days_of_week[current_day]\n",
    "print (current_day_name)"
   ]
  },
  {
   "cell_type": "code",
   "execution_count": 4,
   "id": "dbb7f33a",
   "metadata": {},
   "outputs": [
    {
     "name": "stdout",
     "output_type": "stream",
     "text": [
      "    Unnamed: 0 Unnamed: 1   Unnamed: 2      Unnamed: 3        Unnamed: 4\n",
      "0          NaN        NaN          NaN  Longest Option  Shortest\\nOption\n",
      "1          NaN   Keyword1        Dhaka             NaN               NaN\n",
      "2          NaN   Keyword2     Saturday             NaN               NaN\n",
      "3          NaN   Keyword3         Baby             NaN               NaN\n",
      "4          NaN   Keyword4       School             NaN               NaN\n",
      "5          NaN   Keyword5      Cricket             NaN               NaN\n",
      "6          NaN   Keyword6    Geography             NaN               NaN\n",
      "7          NaN   Keyword7          Int             NaN               NaN\n",
      "8          NaN   Keyword8         Look             NaN               NaN\n",
      "9          NaN   Keyword9  Hello123459             NaN               NaN\n",
      "10         NaN  Keyword10           By             NaN               NaN\n"
     ]
    }
   ],
   "source": [
    "print(df_dict[current_day_name])"
   ]
  },
  {
   "cell_type": "code",
   "execution_count": 5,
   "id": "56e1bfd2",
   "metadata": {},
   "outputs": [
    {
     "name": "stdout",
     "output_type": "stream",
     "text": [
      "nan\n",
      "Dhaka\n",
      "Saturday\n",
      "Baby\n",
      "School\n",
      "Cricket\n",
      "Geography\n",
      "Int\n",
      "Look\n",
      "Hello123459\n",
      "By\n"
     ]
    }
   ],
   "source": [
    "df = pd.read_excel(excel_file, sheet_name=current_day_name)\n",
    "column_index = 2  \n",
    "column_values = df.iloc[:, column_index]\n",
    "\n",
    "for value in column_values:\n",
    "    print(value)"
   ]
  },
  {
   "cell_type": "code",
   "execution_count": 6,
   "id": "5be08827",
   "metadata": {},
   "outputs": [],
   "source": [
    "results = {'Longest': [], 'Shortest': []}\n"
   ]
  },
  {
   "cell_type": "code",
   "execution_count": null,
   "id": "db88cf2f",
   "metadata": {},
   "outputs": [],
   "source": []
  }
 ],
 "metadata": {
  "kernelspec": {
   "display_name": "Python 3 (ipykernel)",
   "language": "python",
   "name": "python3"
  },
  "language_info": {
   "codemirror_mode": {
    "name": "ipython",
    "version": 3
   },
   "file_extension": ".py",
   "mimetype": "text/x-python",
   "name": "python",
   "nbconvert_exporter": "python",
   "pygments_lexer": "ipython3",
   "version": "3.9.13"
  }
 },
 "nbformat": 4,
 "nbformat_minor": 5
}
